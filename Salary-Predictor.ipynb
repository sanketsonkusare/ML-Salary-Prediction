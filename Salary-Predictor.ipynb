{
 "cells": [
  {
   "cell_type": "markdown",
   "id": "0a0a8a1b",
   "metadata": {},
   "source": [
    "## Importing libraries"
   ]
  },
  {
   "cell_type": "code",
   "execution_count": 1,
   "id": "9c95b781",
   "metadata": {},
   "outputs": [],
   "source": [
    "import pandas as pd\n",
    "import numpy as np\n",
    "import matplotlib.pyplot as plt\n",
    "import seaborn as sns\n",
    "%matplotlib inline"
   ]
  },
  {
   "cell_type": "code",
   "execution_count": 2,
   "id": "ee1b14fc",
   "metadata": {},
   "outputs": [],
   "source": [
    "# loading the data\n",
    "\n",
    "data = pd.read_csv(\"Salary Data.csv\")"
   ]
  },
  {
   "cell_type": "code",
   "execution_count": 3,
   "id": "b651d743",
   "metadata": {},
   "outputs": [
    {
     "data": {
      "text/html": [
       "<div>\n",
       "<style scoped>\n",
       "    .dataframe tbody tr th:only-of-type {\n",
       "        vertical-align: middle;\n",
       "    }\n",
       "\n",
       "    .dataframe tbody tr th {\n",
       "        vertical-align: top;\n",
       "    }\n",
       "\n",
       "    .dataframe thead th {\n",
       "        text-align: right;\n",
       "    }\n",
       "</style>\n",
       "<table border=\"1\" class=\"dataframe\">\n",
       "  <thead>\n",
       "    <tr style=\"text-align: right;\">\n",
       "      <th></th>\n",
       "      <th>Age</th>\n",
       "      <th>Gender</th>\n",
       "      <th>Education Level</th>\n",
       "      <th>Job Title</th>\n",
       "      <th>Years of Experience</th>\n",
       "      <th>Salary</th>\n",
       "    </tr>\n",
       "  </thead>\n",
       "  <tbody>\n",
       "    <tr>\n",
       "      <th>0</th>\n",
       "      <td>32.0</td>\n",
       "      <td>Male</td>\n",
       "      <td>Bachelor's</td>\n",
       "      <td>Software Engineer</td>\n",
       "      <td>5.0</td>\n",
       "      <td>90000.0</td>\n",
       "    </tr>\n",
       "    <tr>\n",
       "      <th>1</th>\n",
       "      <td>28.0</td>\n",
       "      <td>Female</td>\n",
       "      <td>Master's</td>\n",
       "      <td>Data Analyst</td>\n",
       "      <td>3.0</td>\n",
       "      <td>65000.0</td>\n",
       "    </tr>\n",
       "    <tr>\n",
       "      <th>2</th>\n",
       "      <td>45.0</td>\n",
       "      <td>Male</td>\n",
       "      <td>PhD</td>\n",
       "      <td>Senior Manager</td>\n",
       "      <td>15.0</td>\n",
       "      <td>150000.0</td>\n",
       "    </tr>\n",
       "    <tr>\n",
       "      <th>3</th>\n",
       "      <td>36.0</td>\n",
       "      <td>Female</td>\n",
       "      <td>Bachelor's</td>\n",
       "      <td>Sales Associate</td>\n",
       "      <td>7.0</td>\n",
       "      <td>60000.0</td>\n",
       "    </tr>\n",
       "    <tr>\n",
       "      <th>4</th>\n",
       "      <td>52.0</td>\n",
       "      <td>Male</td>\n",
       "      <td>Master's</td>\n",
       "      <td>Director</td>\n",
       "      <td>20.0</td>\n",
       "      <td>200000.0</td>\n",
       "    </tr>\n",
       "    <tr>\n",
       "      <th>5</th>\n",
       "      <td>29.0</td>\n",
       "      <td>Male</td>\n",
       "      <td>Bachelor's</td>\n",
       "      <td>Marketing Analyst</td>\n",
       "      <td>2.0</td>\n",
       "      <td>55000.0</td>\n",
       "    </tr>\n",
       "    <tr>\n",
       "      <th>6</th>\n",
       "      <td>42.0</td>\n",
       "      <td>Female</td>\n",
       "      <td>Master's</td>\n",
       "      <td>Product Manager</td>\n",
       "      <td>12.0</td>\n",
       "      <td>120000.0</td>\n",
       "    </tr>\n",
       "    <tr>\n",
       "      <th>7</th>\n",
       "      <td>31.0</td>\n",
       "      <td>Male</td>\n",
       "      <td>Bachelor's</td>\n",
       "      <td>Sales Manager</td>\n",
       "      <td>4.0</td>\n",
       "      <td>80000.0</td>\n",
       "    </tr>\n",
       "  </tbody>\n",
       "</table>\n",
       "</div>"
      ],
      "text/plain": [
       "    Age  Gender Education Level          Job Title  Years of Experience  \\\n",
       "0  32.0    Male      Bachelor's  Software Engineer                  5.0   \n",
       "1  28.0  Female        Master's       Data Analyst                  3.0   \n",
       "2  45.0    Male             PhD     Senior Manager                 15.0   \n",
       "3  36.0  Female      Bachelor's    Sales Associate                  7.0   \n",
       "4  52.0    Male        Master's           Director                 20.0   \n",
       "5  29.0    Male      Bachelor's  Marketing Analyst                  2.0   \n",
       "6  42.0  Female        Master's    Product Manager                 12.0   \n",
       "7  31.0    Male      Bachelor's      Sales Manager                  4.0   \n",
       "\n",
       "     Salary  \n",
       "0   90000.0  \n",
       "1   65000.0  \n",
       "2  150000.0  \n",
       "3   60000.0  \n",
       "4  200000.0  \n",
       "5   55000.0  \n",
       "6  120000.0  \n",
       "7   80000.0  "
      ]
     },
     "execution_count": 3,
     "metadata": {},
     "output_type": "execute_result"
    }
   ],
   "source": [
    "# calling the dataframe to do all the basic checks\n",
    "\n",
    "data.head(8) #data.head(8) calls first 8 rows of the data"
   ]
  },
  {
   "cell_type": "raw",
   "id": "6d7e7c39",
   "metadata": {},
   "source": [
    "here 'Salary' is our target variable which we have to predict\n",
    "and 'Age','Gender','Education Level','Job Title' and 'Years of Experience' are the indipendent variables,\n",
    "Which we will use to predict the output"
   ]
  },
  {
   "cell_type": "raw",
   "id": "18af13fb",
   "metadata": {},
   "source": [
    "Domain Analysis-\n",
    "Age: This column represents the age of each employee in years. The values in this column are numeric.\n",
    "\n",
    "Gender: This column contains the gender of each employee, which can be either male or female. The values in this column are categorical.\n",
    "\n",
    "Education Level: This column contains the educational level of each employee, which can be high school, bachelor's degree, master's degree, or PhD. The values in this column are categorical.\n",
    "\n",
    "Job Title: This column contains the job title of each employee. The job titles can vary depending on the company and may include positions such as manager, analyst, engineer, or administrator. The values in this column are categorical.\n",
    "\n",
    "Years of Experience: This column represents the number of years of work experience of each employee. The values in this column are numeric.\n",
    "\n",
    "Salary: This column represents the annual salary of each employee in US dollars. The values in this column are numeric and can vary depending on factors such as job title, years of experience, and education level."
   ]
  },
  {
   "cell_type": "code",
   "execution_count": 4,
   "id": "095fbc17",
   "metadata": {},
   "outputs": [
    {
     "data": {
      "text/html": [
       "<div>\n",
       "<style scoped>\n",
       "    .dataframe tbody tr th:only-of-type {\n",
       "        vertical-align: middle;\n",
       "    }\n",
       "\n",
       "    .dataframe tbody tr th {\n",
       "        vertical-align: top;\n",
       "    }\n",
       "\n",
       "    .dataframe thead th {\n",
       "        text-align: right;\n",
       "    }\n",
       "</style>\n",
       "<table border=\"1\" class=\"dataframe\">\n",
       "  <thead>\n",
       "    <tr style=\"text-align: right;\">\n",
       "      <th></th>\n",
       "      <th>Age</th>\n",
       "      <th>Years of Experience</th>\n",
       "      <th>Salary</th>\n",
       "    </tr>\n",
       "  </thead>\n",
       "  <tbody>\n",
       "    <tr>\n",
       "      <th>count</th>\n",
       "      <td>373.000000</td>\n",
       "      <td>373.000000</td>\n",
       "      <td>373.000000</td>\n",
       "    </tr>\n",
       "    <tr>\n",
       "      <th>mean</th>\n",
       "      <td>37.431635</td>\n",
       "      <td>10.030831</td>\n",
       "      <td>100577.345845</td>\n",
       "    </tr>\n",
       "    <tr>\n",
       "      <th>std</th>\n",
       "      <td>7.069073</td>\n",
       "      <td>6.557007</td>\n",
       "      <td>48240.013482</td>\n",
       "    </tr>\n",
       "    <tr>\n",
       "      <th>min</th>\n",
       "      <td>23.000000</td>\n",
       "      <td>0.000000</td>\n",
       "      <td>350.000000</td>\n",
       "    </tr>\n",
       "    <tr>\n",
       "      <th>25%</th>\n",
       "      <td>31.000000</td>\n",
       "      <td>4.000000</td>\n",
       "      <td>55000.000000</td>\n",
       "    </tr>\n",
       "    <tr>\n",
       "      <th>50%</th>\n",
       "      <td>36.000000</td>\n",
       "      <td>9.000000</td>\n",
       "      <td>95000.000000</td>\n",
       "    </tr>\n",
       "    <tr>\n",
       "      <th>75%</th>\n",
       "      <td>44.000000</td>\n",
       "      <td>15.000000</td>\n",
       "      <td>140000.000000</td>\n",
       "    </tr>\n",
       "    <tr>\n",
       "      <th>max</th>\n",
       "      <td>53.000000</td>\n",
       "      <td>25.000000</td>\n",
       "      <td>250000.000000</td>\n",
       "    </tr>\n",
       "  </tbody>\n",
       "</table>\n",
       "</div>"
      ],
      "text/plain": [
       "              Age  Years of Experience         Salary\n",
       "count  373.000000           373.000000     373.000000\n",
       "mean    37.431635            10.030831  100577.345845\n",
       "std      7.069073             6.557007   48240.013482\n",
       "min     23.000000             0.000000     350.000000\n",
       "25%     31.000000             4.000000   55000.000000\n",
       "50%     36.000000             9.000000   95000.000000\n",
       "75%     44.000000            15.000000  140000.000000\n",
       "max     53.000000            25.000000  250000.000000"
      ]
     },
     "execution_count": 4,
     "metadata": {},
     "output_type": "execute_result"
    }
   ],
   "source": [
    "data.describe()  #The describe() method returns description of the data in the DataFrame."
   ]
  },
  {
   "cell_type": "code",
   "execution_count": 5,
   "id": "8dd08e5b",
   "metadata": {},
   "outputs": [
    {
     "name": "stdout",
     "output_type": "stream",
     "text": [
      "<class 'pandas.core.frame.DataFrame'>\n",
      "RangeIndex: 375 entries, 0 to 374\n",
      "Data columns (total 6 columns):\n",
      " #   Column               Non-Null Count  Dtype  \n",
      "---  ------               --------------  -----  \n",
      " 0   Age                  373 non-null    float64\n",
      " 1   Gender               373 non-null    object \n",
      " 2   Education Level      373 non-null    object \n",
      " 3   Job Title            373 non-null    object \n",
      " 4   Years of Experience  373 non-null    float64\n",
      " 5   Salary               373 non-null    float64\n",
      "dtypes: float64(3), object(3)\n",
      "memory usage: 17.7+ KB\n"
     ]
    }
   ],
   "source": [
    "data.info() #data.info() method pulls the basic info about the data"
   ]
  },
  {
   "cell_type": "code",
   "execution_count": 6,
   "id": "ab38fa61",
   "metadata": {},
   "outputs": [
    {
     "data": {
      "text/html": [
       "<div>\n",
       "<style scoped>\n",
       "    .dataframe tbody tr th:only-of-type {\n",
       "        vertical-align: middle;\n",
       "    }\n",
       "\n",
       "    .dataframe tbody tr th {\n",
       "        vertical-align: top;\n",
       "    }\n",
       "\n",
       "    .dataframe thead th {\n",
       "        text-align: right;\n",
       "    }\n",
       "</style>\n",
       "<table border=\"1\" class=\"dataframe\">\n",
       "  <thead>\n",
       "    <tr style=\"text-align: right;\">\n",
       "      <th></th>\n",
       "      <th>Age</th>\n",
       "      <th>Gender</th>\n",
       "      <th>Edulevel</th>\n",
       "      <th>Jobtitle</th>\n",
       "      <th>Yoe</th>\n",
       "      <th>Salary</th>\n",
       "    </tr>\n",
       "  </thead>\n",
       "  <tbody>\n",
       "    <tr>\n",
       "      <th>0</th>\n",
       "      <td>32.0</td>\n",
       "      <td>Male</td>\n",
       "      <td>Bachelor's</td>\n",
       "      <td>Software Engineer</td>\n",
       "      <td>5.0</td>\n",
       "      <td>90000.0</td>\n",
       "    </tr>\n",
       "    <tr>\n",
       "      <th>1</th>\n",
       "      <td>28.0</td>\n",
       "      <td>Female</td>\n",
       "      <td>Master's</td>\n",
       "      <td>Data Analyst</td>\n",
       "      <td>3.0</td>\n",
       "      <td>65000.0</td>\n",
       "    </tr>\n",
       "    <tr>\n",
       "      <th>2</th>\n",
       "      <td>45.0</td>\n",
       "      <td>Male</td>\n",
       "      <td>PhD</td>\n",
       "      <td>Senior Manager</td>\n",
       "      <td>15.0</td>\n",
       "      <td>150000.0</td>\n",
       "    </tr>\n",
       "    <tr>\n",
       "      <th>3</th>\n",
       "      <td>36.0</td>\n",
       "      <td>Female</td>\n",
       "      <td>Bachelor's</td>\n",
       "      <td>Sales Associate</td>\n",
       "      <td>7.0</td>\n",
       "      <td>60000.0</td>\n",
       "    </tr>\n",
       "    <tr>\n",
       "      <th>4</th>\n",
       "      <td>52.0</td>\n",
       "      <td>Male</td>\n",
       "      <td>Master's</td>\n",
       "      <td>Director</td>\n",
       "      <td>20.0</td>\n",
       "      <td>200000.0</td>\n",
       "    </tr>\n",
       "  </tbody>\n",
       "</table>\n",
       "</div>"
      ],
      "text/plain": [
       "    Age  Gender    Edulevel           Jobtitle   Yoe    Salary\n",
       "0  32.0    Male  Bachelor's  Software Engineer   5.0   90000.0\n",
       "1  28.0  Female    Master's       Data Analyst   3.0   65000.0\n",
       "2  45.0    Male         PhD     Senior Manager  15.0  150000.0\n",
       "3  36.0  Female  Bachelor's    Sales Associate   7.0   60000.0\n",
       "4  52.0    Male    Master's           Director  20.0  200000.0"
      ]
     },
     "execution_count": 6,
     "metadata": {},
     "output_type": "execute_result"
    }
   ],
   "source": [
    "# renaming the columns\n",
    "data.rename(columns={'Education Level': 'Edulevel','Job Title': 'Jobtitle','Years of Experience':'Yoe'}, inplace=True)\n",
    "data.head()"
   ]
  },
  {
   "cell_type": "markdown",
   "id": "c3cd0eb1",
   "metadata": {},
   "source": [
    "## Exploratory Data Analysis"
   ]
  },
  {
   "cell_type": "code",
   "execution_count": 7,
   "id": "5db7a45d",
   "metadata": {},
   "outputs": [
    {
     "data": {
      "text/plain": [
       "<AxesSubplot:xlabel='Gender', ylabel='Count'>"
      ]
     },
     "execution_count": 7,
     "metadata": {},
     "output_type": "execute_result"
    },
    {
     "data": {
      "image/png": "[encoded data removed]",
      "text/plain": [
       "<Figure size 640x480 with 1 Axes>"
      ]
     },
     "metadata": {},
     "output_type": "display_data"
    }
   ],
   "source": [
    "# Univariate Analysis\n",
    "sns.histplot(x=data.Gender,hue=data.Gender)"
   ]
  },
  {
   "cell_type": "code",
   "execution_count": 8,
   "id": "dd36ea63",
   "metadata": {},
   "outputs": [
    {
     "data": {
      "text/plain": [
       "<AxesSubplot:xlabel='Edulevel', ylabel='Count'>"
      ]
     },
     "execution_count": 8,
     "metadata": {},
     "output_type": "execute_result"
    },
    {
     "data": {
      "image/png": "[encoded data removed]",
      "text/plain": [
       "<Figure size 640x480 with 1 Axes>"
      ]
     },
     "metadata": {},
     "output_type": "display_data"
    }
   ],
   "source": [
    "sns.histplot(x=data.Edulevel)"
   ]
  },
  {
   "cell_type": "code",
   "execution_count": 9,
   "id": "484a36bf",
   "metadata": {},
   "outputs": [
    {
     "data": {
      "text/plain": [
       "<AxesSubplot:xlabel='Age', ylabel='Count'>"
      ]
     },
     "execution_count": 9,
     "metadata": {},
     "output_type": "execute_result"
    },
    {
     "data": {
      "image/png": "[encoded data removed]",
      "text/plain": [
       "<Figure size 640x480 with 1 Axes>"
      ]
     },
     "metadata": {},
     "output_type": "display_data"
    }
   ],
   "source": [
    "sns.histplot(x=data.Age,kde=True)"
   ]
  },
  {
   "cell_type": "code",
   "execution_count": 10,
   "id": "ef04da6f",
   "metadata": {},
   "outputs": [
    {
     "data": {
      "text/plain": [
       "<AxesSubplot:xlabel='Age', ylabel='Salary'>"
      ]
     },
     "execution_count": 10,
     "metadata": {},
     "output_type": "execute_result"
    },
    {
     "data": {
      "image/png": "[encoded data removed]",
      "text/plain": [
       "<Figure size 640x480 with 1 Axes>"
      ]
     },
     "metadata": {},
     "output_type": "display_data"
    }
   ],
   "source": [
    "# Bivariate analysis\n",
    "sns.scatterplot(x=data.Age,y=data.Salary)"
   ]
  },
  {
   "cell_type": "code",
   "execution_count": 11,
   "id": "543403dd",
   "metadata": {},
   "outputs": [
    {
     "data": {
      "text/plain": [
       "<AxesSubplot:xlabel='Edulevel', ylabel='Salary'>"
      ]
     },
     "execution_count": 11,
     "metadata": {},
     "output_type": "execute_result"
    },
    {
     "data": {
      "image/png": "[encoded data removed]",
      "text/plain": [
       "<Figure size 640x480 with 1 Axes>"
      ]
     },
     "metadata": {},
     "output_type": "display_data"
    }
   ],
   "source": [
    "sns.histplot(x=data.Edulevel,y=data.Salary)"
   ]
  },
  {
   "cell_type": "code",
   "execution_count": 12,
   "id": "9aed08a1",
   "metadata": {
    "scrolled": true
   },
   "outputs": [
    {
     "data": {
      "text/plain": [
       "<AxesSubplot:xlabel='Gender', ylabel='Salary'>"
      ]
     },
     "execution_count": 12,
     "metadata": {},
     "output_type": "execute_result"
    },
    {
     "data": {
      "image/png": "[encoded data removed]",
      "text/plain": [
       "<Figure size 640x480 with 1 Axes>"
      ]
     },
     "metadata": {},
     "output_type": "display_data"
    }
   ],
   "source": [
    "sns.barplot(x=data.Gender,y=data.Salary)"
   ]
  },
  {
   "cell_type": "code",
   "execution_count": 13,
   "id": "abf02d9e",
   "metadata": {},
   "outputs": [
    {
     "data": {
      "text/plain": [
       "<AxesSubplot:xlabel='Age'>"
      ]
     },
     "execution_count": 13,
     "metadata": {},
     "output_type": "execute_result"
    },
    {
     "data": {
      "image/png": "[encoded data removed]",
      "text/plain": [
       "<Figure size 640x480 with 1 Axes>"
      ]
     },
     "metadata": {},
     "output_type": "display_data"
    }
   ],
   "source": [
    "sns.boxplot(x=data.Age,data=data)"
   ]
  },
  {
   "cell_type": "code",
   "execution_count": 14,
   "id": "c5f64c23",
   "metadata": {},
   "outputs": [
    {
     "data": {
      "text/plain": [
       "<AxesSubplot:xlabel='Yoe'>"
      ]
     },
     "execution_count": 14,
     "metadata": {},
     "output_type": "execute_result"
    },
    {
     "data": {
      "image/png": "[encoded data removed]",
      "text/plain": [
       "<Figure size 640x480 with 1 Axes>"
      ]
     },
     "metadata": {},
     "output_type": "display_data"
    }
   ],
   "source": [
    "sns.boxplot(x=data.Yoe,data=data)"
   ]
  },
  {
   "cell_type": "code",
   "execution_count": 15,
   "id": "e6438c4b",
   "metadata": {},
   "outputs": [
    {
     "data": {
      "text/plain": [
       "<AxesSubplot:xlabel='Salary'>"
      ]
     },
     "execution_count": 15,
     "metadata": {},
     "output_type": "execute_result"
    },
    {
     "data": {
      "image/png": "[encoded data removed]",
      "text/plain": [
       "<Figure size 640x480 with 1 Axes>"
      ]
     },
     "metadata": {},
     "output_type": "display_data"
    }
   ],
   "source": [
    "sns.boxplot(x=data.Salary,data=data)"
   ]
  },
  {
   "cell_type": "markdown",
   "id": "a1b3ecbb",
   "metadata": {},
   "source": [
    "## Data preprocessing and Feature Engineering"
   ]
  },
  {
   "cell_type": "code",
   "execution_count": 16,
   "id": "cfaf5949",
   "metadata": {},
   "outputs": [
    {
     "data": {
      "text/plain": [
       "Age         2\n",
       "Gender      2\n",
       "Edulevel    2\n",
       "Jobtitle    2\n",
       "Yoe         2\n",
       "Salary      2\n",
       "dtype: int64"
      ]
     },
     "execution_count": 16,
     "metadata": {},
     "output_type": "execute_result"
    }
   ],
   "source": [
    "# finding missing values\n",
    "data.isnull().sum()"
   ]
  },
  {
   "cell_type": "raw",
   "id": "3bcb2f02",
   "metadata": {},
   "source": [
    "Dropping all the null rows"
   ]
  },
  {
   "cell_type": "code",
   "execution_count": 17,
   "id": "457a9254",
   "metadata": {},
   "outputs": [],
   "source": [
    "data.dropna(axis=0,inplace=True)"
   ]
  },
  {
   "cell_type": "code",
   "execution_count": 18,
   "id": "f7300cee",
   "metadata": {
    "scrolled": true
   },
   "outputs": [
    {
     "data": {
      "text/plain": [
       "Age         0\n",
       "Gender      0\n",
       "Edulevel    0\n",
       "Jobtitle    0\n",
       "Yoe         0\n",
       "Salary      0\n",
       "dtype: int64"
      ]
     },
     "execution_count": 18,
     "metadata": {},
     "output_type": "execute_result"
    }
   ],
   "source": [
    "data.isnull().sum()"
   ]
  },
  {
   "cell_type": "code",
   "execution_count": 19,
   "id": "bffb5b7d",
   "metadata": {},
   "outputs": [
    {
     "data": {
      "text/html": [
       "<div>\n",
       "<style scoped>\n",
       "    .dataframe tbody tr th:only-of-type {\n",
       "        vertical-align: middle;\n",
       "    }\n",
       "\n",
       "    .dataframe tbody tr th {\n",
       "        vertical-align: top;\n",
       "    }\n",
       "\n",
       "    .dataframe thead th {\n",
       "        text-align: right;\n",
       "    }\n",
       "</style>\n",
       "<table border=\"1\" class=\"dataframe\">\n",
       "  <thead>\n",
       "    <tr style=\"text-align: right;\">\n",
       "      <th></th>\n",
       "      <th>Age</th>\n",
       "      <th>Gender</th>\n",
       "      <th>Edulevel</th>\n",
       "      <th>Jobtitle</th>\n",
       "      <th>Yoe</th>\n",
       "      <th>Salary</th>\n",
       "    </tr>\n",
       "  </thead>\n",
       "  <tbody>\n",
       "    <tr>\n",
       "      <th>0</th>\n",
       "      <td>32.0</td>\n",
       "      <td>Male</td>\n",
       "      <td>Bachelor's</td>\n",
       "      <td>Software Engineer</td>\n",
       "      <td>5.0</td>\n",
       "      <td>90000.0</td>\n",
       "    </tr>\n",
       "    <tr>\n",
       "      <th>1</th>\n",
       "      <td>28.0</td>\n",
       "      <td>Female</td>\n",
       "      <td>Master's</td>\n",
       "      <td>Data Analyst</td>\n",
       "      <td>3.0</td>\n",
       "      <td>65000.0</td>\n",
       "    </tr>\n",
       "    <tr>\n",
       "      <th>2</th>\n",
       "      <td>45.0</td>\n",
       "      <td>Male</td>\n",
       "      <td>PhD</td>\n",
       "      <td>Senior Manager</td>\n",
       "      <td>15.0</td>\n",
       "      <td>150000.0</td>\n",
       "    </tr>\n",
       "    <tr>\n",
       "      <th>3</th>\n",
       "      <td>36.0</td>\n",
       "      <td>Female</td>\n",
       "      <td>Bachelor's</td>\n",
       "      <td>Sales Associate</td>\n",
       "      <td>7.0</td>\n",
       "      <td>60000.0</td>\n",
       "    </tr>\n",
       "    <tr>\n",
       "      <th>4</th>\n",
       "      <td>52.0</td>\n",
       "      <td>Male</td>\n",
       "      <td>Master's</td>\n",
       "      <td>Director</td>\n",
       "      <td>20.0</td>\n",
       "      <td>200000.0</td>\n",
       "    </tr>\n",
       "  </tbody>\n",
       "</table>\n",
       "</div>"
      ],
      "text/plain": [
       "    Age  Gender    Edulevel           Jobtitle   Yoe    Salary\n",
       "0  32.0    Male  Bachelor's  Software Engineer   5.0   90000.0\n",
       "1  28.0  Female    Master's       Data Analyst   3.0   65000.0\n",
       "2  45.0    Male         PhD     Senior Manager  15.0  150000.0\n",
       "3  36.0  Female  Bachelor's    Sales Associate   7.0   60000.0\n",
       "4  52.0    Male    Master's           Director  20.0  200000.0"
      ]
     },
     "execution_count": 19,
     "metadata": {},
     "output_type": "execute_result"
    }
   ],
   "source": [
    "data.head()"
   ]
  },
  {
   "cell_type": "code",
   "execution_count": 20,
   "id": "089d0807",
   "metadata": {},
   "outputs": [],
   "source": [
    "data['Gender'].replace(['Male','Female'],[1,0],inplace = True)"
   ]
  },
  {
   "cell_type": "code",
   "execution_count": 21,
   "id": "c9614c80",
   "metadata": {},
   "outputs": [],
   "source": [
    "data['Edulevel'].replace([\"Bachelor's\",\"Master's\",\"PhD\"],[1,2,3],inplace = True)"
   ]
  },
  {
   "cell_type": "code",
   "execution_count": 22,
   "id": "921c3932",
   "metadata": {},
   "outputs": [
    {
     "name": "stdout",
     "output_type": "stream",
     "text": [
      "Director of Marketing                    12\n",
      "Director of Operations                   11\n",
      "Senior Business Analyst                  10\n",
      "Senior Marketing Analyst                  9\n",
      "Senior Marketing Manager                  9\n",
      "Junior Business Analyst                   8\n",
      "Senior Financial Analyst                  7\n",
      "Junior Financial Analyst                  7\n",
      "Junior Business Development Associate     7\n",
      "Senior Project Manager                    7\n",
      "Senior Data Scientist                     7\n",
      "Senior Software Engineer                  6\n",
      "Junior Marketing Coordinator              6\n",
      "Senior Product Manager                    6\n",
      "Senior Financial Manager                  5\n",
      "Junior Operations Analyst                 5\n",
      "Junior Project Manager                    5\n",
      "Junior Marketing Specialist               5\n",
      "Senior Product Designer                   5\n",
      "Senior Operations Manager                 5\n",
      "Senior Project Coordinator                5\n",
      "Senior Data Engineer                      4\n",
      "Senior Marketing Specialist               4\n",
      "Senior Operations Coordinator             4\n",
      "Senior Business Development Manager       4\n",
      "Junior Product Manager                    4\n",
      "Junior Sales Representative               4\n",
      "Senior Data Analyst                       3\n",
      "Senior Marketing Coordinator              3\n",
      "Junior Accountant                         3\n",
      "Senior Software Developer                 3\n",
      "Senior Financial Advisor                  3\n",
      "Junior Operations Manager                 3\n",
      "Senior UX Designer                        3\n",
      "Junior Marketing Manager                  3\n",
      "Senior Scientist                          3\n",
      "Marketing Coordinator                     3\n",
      "Sales Manager                             3\n",
      "Junior Marketing Analyst                  3\n",
      "Senior HR Manager                         3\n",
      "Junior HR Coordinator                     2\n",
      "Junior Software Developer                 2\n",
      "Senior Human Resources Manager            2\n",
      "Senior Sales Representative               2\n",
      "Director of Human Resources               2\n",
      "Junior Account Manager                    2\n",
      "Senior Accountant                         2\n",
      "Data Analyst                              2\n",
      "Senior Sales Manager                      2\n",
      "Junior HR Generalist                      2\n",
      "Director of Finance                       2\n",
      "Director of Engineering                   2\n",
      "Junior Business Operations Analyst        2\n",
      "Product Manager                           2\n",
      "Senior Operations Analyst                 2\n",
      "Senior IT Consultant                      2\n",
      "Business Analyst                          2\n",
      "Senior Engineer                           2\n",
      "Operations Manager                        2\n",
      "HR Generalist                             2\n",
      "Project Manager                           2\n",
      "HR Manager                                2\n",
      "Recruiter                                 2\n",
      "Marketing Analyst                         2\n",
      "Sales Associate                           2\n",
      "Event Coordinator                         2\n",
      "Senior Manager                            2\n",
      "Customer Service Manager                  2\n",
      "Administrative Assistant                  2\n",
      "Senior Product Marketing Manager          1\n",
      "Junior Financial Advisor                  1\n",
      "Junior Operations Coordinator             1\n",
      "Senior Research Scientist                 1\n",
      "Junior Web Designer                       1\n",
      "Senior HR Specialist                      1\n",
      "Junior Data Analyst                       1\n",
      "Junior Research Scientist                 1\n",
      "Senior Product Development Manager        1\n",
      "Senior Training Specialist                1\n",
      "Senior Software Architect                 1\n",
      "Director of HR                            1\n",
      "Sales Operations Manager                  1\n",
      "Director of Sales                         1\n",
      "Director of Product Management            1\n",
      "Senior Human Resources Coordinator        1\n",
      "Senior IT Project Manager                 1\n",
      "Senior Researcher                         1\n",
      "Senior Account Manager                    1\n",
      "Senior Quality Assurance Analyst          1\n",
      "Director of Sales and Marketing           1\n",
      "Senior Account Executive                  1\n",
      "Director of Business Development          1\n",
      "Junior Copywriter                         1\n",
      "Junior Social Media Manager               1\n",
      "Junior Recruiter                          1\n",
      "Senior Human Resources Specialist         1\n",
      "Junior Software Engineer                  1\n",
      "Director of Human Capital                 1\n",
      "Junior Advertising Coordinator            1\n",
      "Senior IT Support Specialist              1\n",
      "Junior Customer Support Specialist        1\n",
      "Junior UX Designer                        1\n",
      "Senior Marketing Director                 1\n",
      "Junior Social Media Specialist            1\n",
      "Junior Data Scientist                     1\n",
      "Software Engineer                         1\n",
      "Senior HR Generalist                      1\n",
      "UX Designer                               1\n",
      "Data Scientist                            1\n",
      "Marketing Specialist                      1\n",
      "Technical Writer                          1\n",
      "Project Engineer                          1\n",
      "Customer Success Rep                      1\n",
      "Sales Executive                           1\n",
      "Operations Director                       1\n",
      "Principal Engineer                        1\n",
      "Network Engineer                          1\n",
      "Strategy Consultant                       1\n",
      "Copywriter                                1\n",
      "Account Manager                           1\n",
      "Help Desk Analyst                         1\n",
      "Business Intelligence Analyst             1\n",
      "Accountant                                1\n",
      "CEO                                       1\n",
      "Product Designer                          1\n",
      "Senior Consultant                         1\n",
      "Junior Developer                          1\n",
      "Software Manager                          1\n",
      "Social Media Specialist                   1\n",
      "Financial Manager                         1\n",
      "IT Support                                1\n",
      "VP of Operations                          1\n",
      "Sales Director                            1\n",
      "Data Entry Clerk                          1\n",
      "Marketing Manager                         1\n",
      "Customer Service Rep                      1\n",
      "Financial Analyst                         1\n",
      "Software Developer                        1\n",
      "Director                                  1\n",
      "VP of Finance                             1\n",
      "Graphic Designer                          1\n",
      "UX Researcher                             1\n",
      "Principal Scientist                       1\n",
      "Office Manager                            1\n",
      "Supply Chain Analyst                      1\n",
      "Software Project Manager                  1\n",
      "Senior Graphic Designer                   1\n",
      "Customer Success Manager                  1\n",
      "IT Support Specialist                     1\n",
      "Digital Content Producer                  1\n",
      "Chief Data Officer                        1\n",
      "Product Marketing Manager                 1\n",
      "Operations Analyst                        1\n",
      "Public Relations Manager                  1\n",
      "Research Scientist                        1\n",
      "Training Specialist                       1\n",
      "Supply Chain Manager                      1\n",
      "Financial Advisor                         1\n",
      "Social Media Manager                      1\n",
      "Junior Designer                           1\n",
      "Chief Technology Officer                  1\n",
      "Sales Representative                      1\n",
      "Technical Recruiter                       1\n",
      "Content Marketing Manager                 1\n",
      "Human Resources Director                  1\n",
      "Creative Director                         1\n",
      "Technical Support Specialist              1\n",
      "Research Director                         1\n",
      "Web Developer                             1\n",
      "Business Development Manager              1\n",
      "Customer Service Representative           1\n",
      "IT Manager                                1\n",
      "Digital Marketing Manager                 1\n",
      "Junior Web Developer                      1\n"
     ]
    }
   ],
   "source": [
    "print(data.Jobtitle.value_counts().to_string())"
   ]
  },
  {
   "cell_type": "code",
   "execution_count": 23,
   "id": "9db49640",
   "metadata": {},
   "outputs": [],
   "source": [
    "data.drop(['Jobtitle'],axis=1,inplace=True)"
   ]
  },
  {
   "cell_type": "code",
   "execution_count": 24,
   "id": "f1d0bb75",
   "metadata": {},
   "outputs": [],
   "source": [
    "# from sklearn.preprocessing import MinMaxScaler\n",
    "# scale=MinMaxScaler()\n",
    "# data[['Age','Gender','Edulevel','Yoe']]=scale.fit_transform(data[['Age','Gender','Edulevel','Yoe']])"
   ]
  },
  {
   "cell_type": "code",
   "execution_count": 25,
   "id": "6e5b1325",
   "metadata": {},
   "outputs": [
    {
     "data": {
      "text/html": [
       "<div>\n",
       "<style scoped>\n",
       "    .dataframe tbody tr th:only-of-type {\n",
       "        vertical-align: middle;\n",
       "    }\n",
       "\n",
       "    .dataframe tbody tr th {\n",
       "        vertical-align: top;\n",
       "    }\n",
       "\n",
       "    .dataframe thead th {\n",
       "        text-align: right;\n",
       "    }\n",
       "</style>\n",
       "<table border=\"1\" class=\"dataframe\">\n",
       "  <thead>\n",
       "    <tr style=\"text-align: right;\">\n",
       "      <th></th>\n",
       "      <th>Age</th>\n",
       "      <th>Gender</th>\n",
       "      <th>Edulevel</th>\n",
       "      <th>Yoe</th>\n",
       "      <th>Salary</th>\n",
       "    </tr>\n",
       "  </thead>\n",
       "  <tbody>\n",
       "    <tr>\n",
       "      <th>0</th>\n",
       "      <td>32.0</td>\n",
       "      <td>1</td>\n",
       "      <td>1</td>\n",
       "      <td>5.0</td>\n",
       "      <td>90000.0</td>\n",
       "    </tr>\n",
       "    <tr>\n",
       "      <th>1</th>\n",
       "      <td>28.0</td>\n",
       "      <td>0</td>\n",
       "      <td>2</td>\n",
       "      <td>3.0</td>\n",
       "      <td>65000.0</td>\n",
       "    </tr>\n",
       "    <tr>\n",
       "      <th>2</th>\n",
       "      <td>45.0</td>\n",
       "      <td>1</td>\n",
       "      <td>3</td>\n",
       "      <td>15.0</td>\n",
       "      <td>150000.0</td>\n",
       "    </tr>\n",
       "    <tr>\n",
       "      <th>3</th>\n",
       "      <td>36.0</td>\n",
       "      <td>0</td>\n",
       "      <td>1</td>\n",
       "      <td>7.0</td>\n",
       "      <td>60000.0</td>\n",
       "    </tr>\n",
       "    <tr>\n",
       "      <th>4</th>\n",
       "      <td>52.0</td>\n",
       "      <td>1</td>\n",
       "      <td>2</td>\n",
       "      <td>20.0</td>\n",
       "      <td>200000.0</td>\n",
       "    </tr>\n",
       "  </tbody>\n",
       "</table>\n",
       "</div>"
      ],
      "text/plain": [
       "    Age  Gender  Edulevel   Yoe    Salary\n",
       "0  32.0       1         1   5.0   90000.0\n",
       "1  28.0       0         2   3.0   65000.0\n",
       "2  45.0       1         3  15.0  150000.0\n",
       "3  36.0       0         1   7.0   60000.0\n",
       "4  52.0       1         2  20.0  200000.0"
      ]
     },
     "execution_count": 25,
     "metadata": {},
     "output_type": "execute_result"
    }
   ],
   "source": [
    "data.head()"
   ]
  },
  {
   "cell_type": "markdown",
   "id": "448c8260",
   "metadata": {},
   "source": [
    "## Model Creation"
   ]
  },
  {
   "cell_type": "code",
   "execution_count": 26,
   "id": "df9b7cc4",
   "metadata": {},
   "outputs": [],
   "source": [
    "# Independent and dependent variable creation\n",
    "X=data[['Age','Gender','Edulevel','Yoe']] ## X variable contains all inputs\n",
    "y=data.Salary ## y is output"
   ]
  },
  {
   "cell_type": "code",
   "execution_count": 27,
   "id": "27eb5f35",
   "metadata": {},
   "outputs": [
    {
     "data": {
      "text/plain": [
       "0       90000.0\n",
       "1       65000.0\n",
       "2      150000.0\n",
       "3       60000.0\n",
       "4      200000.0\n",
       "         ...   \n",
       "370     85000.0\n",
       "371    170000.0\n",
       "372     40000.0\n",
       "373     90000.0\n",
       "374    150000.0\n",
       "Name: Salary, Length: 373, dtype: float64"
      ]
     },
     "execution_count": 27,
     "metadata": {},
     "output_type": "execute_result"
    }
   ],
   "source": [
    "y"
   ]
  },
  {
   "cell_type": "code",
   "execution_count": 28,
   "id": "f46b4774",
   "metadata": {},
   "outputs": [],
   "source": [
    "# Traning and testing data creation\n",
    "from sklearn.model_selection import train_test_split\n",
    "X_train,X_test,y_train,y_test=train_test_split(X,y,test_size=0.2,random_state=6)"
   ]
  },
  {
   "cell_type": "code",
   "execution_count": 29,
   "id": "3179d7f6",
   "metadata": {},
   "outputs": [
    {
     "data": {
      "text/plain": [
       "182    145000.0\n",
       "54      50000.0\n",
       "216     95000.0\n",
       "291    180000.0\n",
       "105    220000.0\n",
       "         ...   \n",
       "337     90000.0\n",
       "367    150000.0\n",
       "106     50000.0\n",
       "228    120000.0\n",
       "202    130000.0\n",
       "Name: Salary, Length: 298, dtype: float64"
      ]
     },
     "execution_count": 29,
     "metadata": {},
     "output_type": "execute_result"
    }
   ],
   "source": [
    "y_train"
   ]
  },
  {
   "cell_type": "code",
   "execution_count": 30,
   "id": "aae1fcdc",
   "metadata": {},
   "outputs": [],
   "source": [
    "# Creating model\n",
    "from sklearn.linear_model import LinearRegression\n",
    "LR=LinearRegression() # object creation\n",
    "LR.fit(X_train,y_train) # training of linear regression\n",
    "y_predict=LR.predict(X_test)"
   ]
  },
  {
   "cell_type": "code",
   "execution_count": 31,
   "id": "ce0854fa",
   "metadata": {},
   "outputs": [
    {
     "data": {
      "text/plain": [
       "224     40000.0\n",
       "192     45000.0\n",
       "226    160000.0\n",
       "284    100000.0\n",
       "112    130000.0\n",
       "         ...   \n",
       "215    100000.0\n",
       "98      90000.0\n",
       "27      40000.0\n",
       "19     180000.0\n",
       "240    160000.0\n",
       "Name: Salary, Length: 75, dtype: float64"
      ]
     },
     "execution_count": 31,
     "metadata": {},
     "output_type": "execute_result"
    }
   ],
   "source": [
    "y_test #Actual values"
   ]
  },
  {
   "cell_type": "code",
   "execution_count": 32,
   "id": "e780e490",
   "metadata": {},
   "outputs": [
    {
     "data": {
      "text/plain": [
       "array([ 47098.0539397 ,  47795.06748479, 172633.30584438,  86620.05562488,\n",
       "       158389.83839277, 171971.68254017,  90637.8355039 ,  44474.30115085,\n",
       "        79345.83502242,  50418.82027364, 121854.69391861,  42149.06724405,\n",
       "        59385.58684832,  67022.91187293,  80640.14626121, 120859.16149147,\n",
       "       129790.53782527, 186947.55377775,  47098.0539397 ,  81969.58781127,\n",
       "        49256.20332024,  62407.83430021, 173635.29314276,  98609.06965144,\n",
       "       156392.31866725,  47098.0539397 ,  96248.44550376, 160679.6820587 ,\n",
       "        49786.39226867,  68352.353423  ,  42149.06724405, 147425.55209258,\n",
       "       186285.93047354, 183925.30632586, 150746.31842651, 152046.82460694,\n",
       "        67022.91187293, 148392.14915008, 182929.51396912,  70677.5873298 ,\n",
       "        78648.82147734, 192593.55401849,  48623.77531526,  76025.06868848,\n",
       "       154401.25381298,  50120.30139159, 146430.01966544,  52744.05418044,\n",
       "        81969.58781127, 172633.30584438,  87615.58805201,  61710.82075512,\n",
       "        68352.353423  , 164000.44839263, 135436.53806601,  85290.35414521,\n",
       "       153071.55233332,  65031.58708906,  49256.20332024, 106580.30379898,\n",
       "       125175.46025255,  59385.58684832,  93261.58829275, 123149.0051574 ,\n",
       "       102925.36841252, 167022.69584452,  93958.60183784,  68053.83454094,\n",
       "        59385.58684832,  85290.35414521,  82332.69223343, 104916.69319639,\n",
       "        31489.75469715, 169980.3577563 , 157722.02014692])"
      ]
     },
     "execution_count": 32,
     "metadata": {},
     "output_type": "execute_result"
    }
   ],
   "source": [
    "y_predict # Values predicted by model"
   ]
  },
  {
   "cell_type": "code",
   "execution_count": 33,
   "id": "4a138453",
   "metadata": {},
   "outputs": [
    {
     "data": {
      "text/plain": [
       "0.9039262141270619"
      ]
     },
     "execution_count": 33,
     "metadata": {},
     "output_type": "execute_result"
    }
   ],
   "source": [
    "#Model Evalution\n",
    "\n",
    "from sklearn.metrics import r2_score,mean_squared_error,mean_absolute_error,accuracy_score\n",
    "r2score=r2_score(y_test,y_predict)\n",
    "r2score"
   ]
  },
  {
   "cell_type": "code",
   "execution_count": 34,
   "id": "dab7f32b",
   "metadata": {},
   "outputs": [
    {
     "data": {
      "text/plain": [
       "11122.596489845855"
      ]
     },
     "execution_count": 34,
     "metadata": {},
     "output_type": "execute_result"
    }
   ],
   "source": [
    "mr=mean_absolute_error(y_test,y_predict)\n",
    "mr"
   ]
  },
  {
   "cell_type": "code",
   "execution_count": 37,
   "id": "f4b1b905",
   "metadata": {},
   "outputs": [],
   "source": [
    "import warnings\n",
    "warnings.filterwarnings(\"ignore\")"
   ]
  },
  {
   "cell_type": "code",
   "execution_count": 38,
   "id": "76f8e846",
   "metadata": {},
   "outputs": [
    {
     "data": {
      "text/plain": [
       "array([73934.02805323])"
      ]
     },
     "execution_count": 38,
     "metadata": {},
     "output_type": "execute_result"
    }
   ],
   "source": [
    "tr_test=[[29,3,1,5]]\n",
    "tr_predict=LR.predict(tr_test)\n",
    "tr_predict"
   ]
  },
  {
   "cell_type": "code",
   "execution_count": 39,
   "id": "0726b080",
   "metadata": {},
   "outputs": [
    {
     "data": {
      "text/plain": [
       "array([22522.98812248])"
      ]
     },
     "execution_count": 39,
     "metadata": {},
     "output_type": "execute_result"
    }
   ],
   "source": [
    "tr_test=[[22,1,1,0]]\n",
    "tr_predict=LR.predict(tr_test)\n",
    "tr_predict"
   ]
  },
  {
   "cell_type": "code",
   "execution_count": null,
   "id": "4bc4d168",
   "metadata": {},
   "outputs": [],
   "source": []
  }
 ],
 "metadata": {
  "kernelspec": {
   "display_name": "Python 3 (ipykernel)",
   "language": "python",
   "name": "python3"
  },
  "language_info": {
   "codemirror_mode": {
    "name": "ipython",
    "version": 3
   },
   "file_extension": ".py",
   "mimetype": "text/x-python",
   "name": "python",
   "nbconvert_exporter": "python",
   "pygments_lexer": "ipython3",
   "version": "3.9.13"
  }
 },
 "nbformat": 4,
 "nbformat_minor": 5
}
